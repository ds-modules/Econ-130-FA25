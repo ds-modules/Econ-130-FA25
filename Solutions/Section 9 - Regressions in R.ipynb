{
 "cells": [
  {
   "cell_type": "markdown",
   "id": "361f5912",
   "metadata": {},
   "source": [
    "# Coding Section 2\n",
    "## Econ 130\n",
    "GSIs: Richard Calvo and Julia Paris\n",
    "\n",
    "### Goals for today\n",
    "* Do some data analysis, building up to a diff-in-diff\n",
    "* We will start with what we did in the previous section, but we will not assume any knowledge other than what we covered.\n"
   ]
  },
  {
   "cell_type": "markdown",
   "id": "3d228aff",
   "metadata": {},
   "source": [
    "Often times, user written open-source packages are needed for specific functionality in R (e.g. nice graphics). However, we need to manually install these packages (once) and load them at the beginning of every script. Packages have been pre-installed in Jupyter notebooks.  \n",
    "\n",
    "*If you are wondering why a command you've used before is no longer working, it may be because you haven't loaded the package.*"
   ]
  },
  {
   "cell_type": "code",
   "execution_count": null,
   "id": "3b320747",
   "metadata": {
    "vscode": {
     "languageId": "r"
    }
   },
   "outputs": [],
   "source": [
    "# Clear any existing output and data stored in memory\n",
    "rm(list = ls())\n",
    "\n",
    "# Read in the data that we constructed last time\n",
    "mw_no_shore <- read.csv('../Section 9/minwage_no_shore.csv')\n",
    "head(mw_no_shore)"
   ]
  },
  {
   "cell_type": "code",
   "execution_count": null,
   "id": "eafba1a1",
   "metadata": {
    "vscode": {
     "languageId": "r"
    }
   },
   "outputs": [],
   "source": [
    "# Let's try to visualize the relationship between employment (full_time)\n",
    "# and wages (wage_st, the starting wage).\n",
    "\n",
    "library(ggplot2)\n",
    "\n",
    "# First, we'll try a scatterplot\n",
    "basic_plot <- ggplot(data = mw_no_shore, aes(x = wage_st, y = full_time)) +\n",
    "  geom_point()\n",
    "\n",
    "basic_plot"
   ]
  },
  {
   "cell_type": "code",
   "execution_count": null,
   "id": "6c47236f-0cd2-4d82-b053-185e92604074",
   "metadata": {
    "vscode": {
     "languageId": "r"
    }
   },
   "outputs": [],
   "source": [
    "# Now, we want visualize the relationship between employment\n",
    "# and wages in the pre-period. \n",
    "\n",
    "# Create a new dataframe called \"pre_data\" which contains only data from the pre-period\n",
    "# (hint: pre data was collected in the first interview (interview==1))\n",
    "\n",
    "pre_data <- mw_no_shore[mw_no_shore$interview == 1, ]\n",
    "\n",
    "# Plot a scatterplot of employment against wages using \n",
    "# observations from \"pre_data\"\n",
    "\n",
    "pre_plot <- ggplot(data = pre_data, aes(x = wage_st, y = full_time)) +\n",
    "  geom_point()\n",
    "\n",
    "pre_plot"
   ]
  },
  {
   "cell_type": "code",
   "execution_count": null,
   "id": "24faaa58",
   "metadata": {
    "vscode": {
     "languageId": "r"
    }
   },
   "outputs": [],
   "source": [
    "# The scatterplot is hard to interpret! \n",
    "# Let's add a line of best fit\n",
    "\n",
    "pre_plot + geom_smooth(method = \"lm\", se = FALSE)"
   ]
  },
  {
   "cell_type": "markdown",
   "id": "bdba33bd",
   "metadata": {},
   "source": [
    "## Correlations vs Regressions"
   ]
  },
  {
   "cell_type": "code",
   "execution_count": null,
   "id": "f52c1838",
   "metadata": {
    "scrolled": true,
    "vscode": {
     "languageId": "r"
    }
   },
   "outputs": [],
   "source": [
    "# What is the correlation between full-time and part-time employees, and wages? How do we read this table?\n",
    "# Note: the user = \"complete.obs\" is necessary in order to tell R to ignore missing data. Otherwise it will\n",
    "# return a lot of NA's (you can try it if you want!).\n",
    "\n",
    "cor(mw_no_shore[, c('full_time','part_time','wage_st')], use = \"complete.obs\")"
   ]
  },
  {
   "cell_type": "code",
   "execution_count": null,
   "id": "5aef6710",
   "metadata": {
    "vscode": {
     "languageId": "r"
    }
   },
   "outputs": [],
   "source": [
    "# Recall (from lecture) that the correlation coefficient is not the same as the regression \n",
    "# coefficient, although they are related. (If you've taken ECON 140/141, you'll know why. \n",
    "# If not, don't worry about it!) For example,\n",
    "\n",
    "model <- lm(full_time~part_time, data = mw_no_shore)\n",
    "\n",
    "summary(model)"
   ]
  },
  {
   "cell_type": "code",
   "execution_count": null,
   "id": "a0617bb9-d80d-463f-b1fc-85794d325a20",
   "metadata": {
    "vscode": {
     "languageId": "r"
    }
   },
   "outputs": [],
   "source": [
    "# Now try regressing the number of full-time employees on the starting wage \n",
    "# (so y=full_time, x=wage_st)\n",
    "\n",
    "model <- lm(full_time~wage_st, data = mw_no_shore)\n",
    "\n",
    "# Print the results using summary()\n",
    "summary(model)"
   ]
  },
  {
   "cell_type": "markdown",
   "id": "2ce9baac",
   "metadata": {},
   "source": [
    "## Diff-in-Diff Table\n",
    "\n",
    "For a diff-in-diff, we need to calculate four means: two \"pre\" means (one each for NJ and for PA) and two \"post\" means for full-time employment.\n",
    "\n",
    "Let's make things more intuitive by generating some new variables \"treated\" and \"post.\""
   ]
  },
  {
   "cell_type": "code",
   "execution_count": null,
   "id": "161347f9",
   "metadata": {
    "vscode": {
     "languageId": "r"
    }
   },
   "outputs": [],
   "source": [
    "# Create an indicator for \"treated\" which is equal to one if a store is in NJ,\n",
    "# and 0 otherwise\n",
    "\n",
    "mw_no_shore$treated <- ifelse(mw_no_shore$nj == 1, 1, 0)\n",
    "\n",
    "# Create an indicator for \"post\" which is equal to one if an observation is\n",
    "# in the post period, and 0 otherwise\n",
    "# Post = 1 if interview == 2 and 0 otherwise\n",
    "\n",
    "mw_no_shore$post <- ifelse(mw_no_shore$interview == 2, 1, 0)\n",
    "\n",
    "# Generate the four means needed for a difference-in-difference estimator\n",
    "# Remember the mean for full_time employment for the entire dataset can be written as:\n",
    "mean(mw_no_shore$full_time, na.rm = TRUE)\n",
    "\n",
    "# We'll use the print command to help us organize our output\n",
    "print(\"Pre; NJ then PA\")\n",
    "\n",
    "mean(mw_no_shore$full_time[mw_no_shore$post == 0 & mw_no_shore$treated == 1], na.rm = TRUE)\n",
    "mean(mw_no_shore$full_time[mw_no_shore$post == 0 & mw_no_shore$treated == 0], na.rm = TRUE)\n",
    "\n",
    "print(\"Post; NJ then PA\")\n",
    "\n",
    "mean(mw_no_shore$full_time[mw_no_shore$post == 1 & mw_no_shore$treated == 1], na.rm = TRUE)\n",
    "mean(mw_no_shore$full_time[mw_no_shore$post == 1 & mw_no_shore$treated == 0], na.rm = TRUE)\n"
   ]
  },
  {
   "cell_type": "markdown",
   "id": "689b8fae",
   "metadata": {},
   "source": [
    "Now we can complete the table that we started last week:"
   ]
  },
  {
   "cell_type": "markdown",
   "id": "218f0c38",
   "metadata": {},
   "source": [
    "## Diff-in-Diff Regression"
   ]
  },
  {
   "cell_type": "code",
   "execution_count": null,
   "id": "0f25bf3f",
   "metadata": {
    "vscode": {
     "languageId": "r"
    }
   },
   "outputs": [],
   "source": [
    "# Now let's see how we can get the differences with regressions\n",
    "\n",
    "# Here's a naive regression: a single difference (NJ pre vs. NJ post)\n",
    "nj_single <- lm(full_time ~ post, data = mw_no_shore[mw_no_shore$nj==1,])\n",
    "summary(nj_single)\n",
    "\n",
    "# Which difference in means does this correspond to? Is it causal?"
   ]
  },
  {
   "cell_type": "code",
   "execution_count": null,
   "id": "86663a7d",
   "metadata": {
    "vscode": {
     "languageId": "r"
    }
   },
   "outputs": [],
   "source": [
    "# What about this version?\n",
    "post_single <- lm(full_time ~ treated, data = mw_no_shore[mw_no_shore$post==1,])\n",
    "summary(post_single)"
   ]
  },
  {
   "cell_type": "code",
   "execution_count": null,
   "id": "1151fbeb",
   "metadata": {
    "vscode": {
     "languageId": "r"
    }
   },
   "outputs": [],
   "source": [
    "# Now let's do the diff-in-diff\n",
    "\n",
    "mw_no_shore$treatedxpost <- mw_no_shore$treated * mw_no_shore$post\n",
    "\n",
    "diff_in_diff <- lm(full_time ~ treated + post + treatedxpost, data = mw_no_shore)\n",
    "\n",
    "summary(diff_in_diff)\n",
    "\n",
    "# How can we relate this to the table from the Diff-in-Diff slides?\n",
    "\n",
    "# Coding note: we could have the same result by using:\n",
    "# summary(lm(full_time ~ treated*post, data = mw_no_shore))"
   ]
  },
  {
   "cell_type": "code",
   "execution_count": null,
   "id": "71b060d6",
   "metadata": {
    "vscode": {
     "languageId": "r"
    }
   },
   "outputs": [],
   "source": [
    "# How do we feel about this specification?\n",
    "# Is there anything else you want to control for? Do we have these variables?\n",
    "\n",
    "# I want to control for chain. Here's a nice way to do it without manually generating\n",
    "# a lot of variables:\n",
    "\n",
    "w_chain <- lm(full_time ~ treated + post + treatedxpost + factor(chain), data = mw_no_shore)\n",
    "summary(w_chain)\n",
    "\n",
    "# This set of indicator variables for chain are often referred to as \"factor variables,\" which is\n",
    "# where the R command gets it's name. I figured out how to do this by Googling \"R ols factor variables\"\n",
    "# and reading what was the first result for me (from the UCLA stats department)"
   ]
  },
  {
   "cell_type": "code",
   "execution_count": null,
   "id": "150041a2",
   "metadata": {
    "vscode": {
     "languageId": "r"
    }
   },
   "outputs": [],
   "source": [
    "# What other outcome variables are you interested in that might be related\n",
    "# to economic hypotheses about raising the minimum wage? Do we have data to test this?\n",
    "\n",
    "names(mw_no_shore)"
   ]
  },
  {
   "cell_type": "code",
   "execution_count": null,
   "id": "11375adb",
   "metadata": {
    "vscode": {
     "languageId": "r"
    }
   },
   "outputs": [],
   "source": [
    "# For example, let's do a diff-in-diff to see the effect of the minimum\n",
    "# wage on part-time employees\n",
    "\n",
    "summary(lm(part_time ~ treated*post, data = mw_no_shore))\n",
    "\n",
    "# For example, let's do a diff-in-diff to see the effect of the minimum\n",
    "# wage on wages (like we did in Section 4, but this time more formally)\n",
    "summary(lm(wage_st ~ treated*post, data = mw_no_shore))"
   ]
  },
  {
   "cell_type": "code",
   "execution_count": null,
   "id": "e4f15af5",
   "metadata": {
    "vscode": {
     "languageId": "r"
    }
   },
   "outputs": [],
   "source": [
    "# BONUS: Let's make a plot of the difference-in-difference on full-time employees\n",
    "\n",
    "diff_in_diff_plot <- ggplot(data = mw_no_shore, aes(x = post, y = full_time, group = treated)) +\n",
    "  geom_point(aes(color = as.factor(treated))) +\n",
    "  geom_smooth(aes(color = as.factor(treated)), method = 'lm', se = F) +\n",
    "  geom_abline(slope = diff_in_diff$coefficients['post'], intercept = \n",
    "                diff_in_diff$coefficients['(Intercept)'] + \n",
    "                diff_in_diff$coefficients['treated'], linetype = \"dashed\")\n",
    "\n",
    "diff_in_diff_plot"
   ]
  },
  {
   "cell_type": "code",
   "execution_count": null,
   "id": "92511c0f",
   "metadata": {
    "vscode": {
     "languageId": "r"
    }
   },
   "outputs": [],
   "source": [
    "diff_in_diff_plot <- diff_in_diff_plot +\n",
    "  labs(x = \"Period\",\n",
    "       y = \"Number of Full-Time Employees\") +\n",
    "  scale_color_manual(name = '',\n",
    "                     labels = c(\"Control (PA)\", \"Treated (NJ)\"),\n",
    "                     values = c('0' = \"red\", '1' = \"dodgerblue\")) +\n",
    "  scale_x_continuous(breaks = c(0,1), labels = c('Pre', 'Post')) +\n",
    "  geom_abline(slope = diff_in_diff$coefficients['post'], intercept = \n",
    "                diff_in_diff$coefficients['(Intercept)'] + \n",
    "                diff_in_diff$coefficients['treated'], linetype = \"dashed\", color = \"dodgerblue\") +\n",
    "  theme_minimal()\n",
    "\n",
    "diff_in_diff_plot"
   ]
  },
  {
   "cell_type": "code",
   "execution_count": null,
   "id": "e9ffe913",
   "metadata": {
    "vscode": {
     "languageId": "r"
    }
   },
   "outputs": [],
   "source": [
    "  # BONUS: How could we make a similar plot for wages, completing our work from section 4?"
   ]
  }
 ],
 "metadata": {
  "kernelspec": {
   "display_name": "R",
   "language": "R",
   "name": "ir"
  },
  "language_info": {
   "codemirror_mode": "r",
   "file_extension": ".r",
   "mimetype": "text/x-r-source",
   "name": "R",
   "pygments_lexer": "r",
   "version": "4.3.2"
  }
 },
 "nbformat": 4,
 "nbformat_minor": 5
}
